{
  "nbformat": 4,
  "nbformat_minor": 0,
  "metadata": {
    "colab": {
      "name": "vision_transformer.ipynb",
      "provenance": [],
      "collapsed_sections": []
    },
    "kernelspec": {
      "name": "python3",
      "display_name": "Python 3"
    },
    "accelerator": "GPU"
  },
  "cells": [
    {
      "cell_type": "code",
      "metadata": {
        "id": "jy4UTNYxWavZ"
      },
      "source": [
        "import torch\r\n",
        "import tqdm\r\n",
        "import einops\r\n",
        "import torch.nn as nn\r\n",
        "import torch.nn.functional as F\r\n",
        "from torch.utils.data import DataLoader\r\n",
        "from torchvision import transforms, datasets"
      ],
      "execution_count": 1,
      "outputs": []
    },
    {
      "cell_type": "code",
      "metadata": {
        "id": "Fw2IkMssWzRe"
      },
      "source": [
        "class Residual(nn.Module):\r\n",
        "    def __init__(self, fn):\r\n",
        "        super().__init__()\r\n",
        "        self.fn = fn\r\n",
        "\r\n",
        "    def forward(self, x):\r\n",
        "        return self.fn(x) + x"
      ],
      "execution_count": 2,
      "outputs": []
    },
    {
      "cell_type": "code",
      "metadata": {
        "id": "762-QDxdWzOC"
      },
      "source": [
        "class LayerNormalize(nn.Module):\r\n",
        "    def __init__(self, dim, fn):\r\n",
        "        super().__init__()\r\n",
        "        self.fn = fn\r\n",
        "        self.norm = nn.LayerNorm(dim)\r\n",
        "\r\n",
        "    def forward(self, x):\r\n",
        "        return self.fn(self.norm(x))"
      ],
      "execution_count": 3,
      "outputs": []
    },
    {
      "cell_type": "code",
      "metadata": {
        "id": "d5HBae_lvOBu"
      },
      "source": [
        "class MLP(nn.Module):\r\n",
        "    def __init__(self, dim, hidden_dim):\r\n",
        "        super().__init__()\r\n",
        "        self.gelu = nn.GELU()\r\n",
        "        self.dropout = nn.Dropout(0.1)\r\n",
        "\r\n",
        "        self.fc1 = nn.Linear(dim, hidden_dim)\r\n",
        "        self.fc2 = nn.Linear(hidden_dim, dim)\r\n",
        "        self.init_parameters()\r\n",
        "        \r\n",
        "    def init_parameters(self):\r\n",
        "        nn.init.xavier_uniform_(self.fc1.weight)\r\n",
        "        nn.init.normal_(self.fc1.bias, std=1e-6)\r\n",
        "        \r\n",
        "        nn.init.xavier_uniform_(self.fc2.weight)\r\n",
        "        nn.init.normal_(self.fc2.bias, std=1e-6)\r\n",
        "\r\n",
        "\r\n",
        "    def forward(self, x):\r\n",
        "        x = self.gelu(self.fc1(x))\r\n",
        "        x = self.dropout(x)\r\n",
        "\r\n",
        "        x = self.fc2(x)\r\n",
        "        x = self.dropout(x)\r\n",
        "\r\n",
        "        return x"
      ],
      "execution_count": 4,
      "outputs": []
    },
    {
      "cell_type": "code",
      "metadata": {
        "id": "E-g5p92RwTBK"
      },
      "source": [
        "class MultiHeadAttention(nn.Module):\r\n",
        "    def __init__(self, dim, heads):\r\n",
        "        super().__init__()\r\n",
        "        self.heads = heads\r\n",
        "        self.scale = dim ** -0.5\r\n",
        "        self.dropout = nn.Dropout(0.1)\r\n",
        "\r\n",
        "        self.fc1 = nn.Linear(dim, dim*3)\r\n",
        "        self.fc2 = nn.Linear(dim, dim)\r\n",
        "        self.init_parameters()\r\n",
        "\r\n",
        "    def init_parameters(self):\r\n",
        "        nn.init.xavier_uniform_(self.fc1.weight)\r\n",
        "        nn.init.zeros_(self.fc1.bias)\r\n",
        "        \r\n",
        "        nn.init.xavier_uniform_(self.fc2.weight)\r\n",
        "        nn.init.zeros_(self.fc2.bias)\r\n",
        "\r\n",
        "    def forward(self, x):\r\n",
        "        qkv = self.fc1(x)\r\n",
        "        q, k, v = einops.rearrange(qkv, \"b n (qkv h d) -> qkv b h n d\", qkv=3, h=self.heads)\r\n",
        "        energy = torch.einsum(\"bhid,bhjd->bhij\", q, k) * self.scale\r\n",
        "        energy = energy.softmax(dim=-1)\r\n",
        "\r\n",
        "        attn = torch.einsum(\"bhij,bhjd->bhid\", energy, v)\r\n",
        "        attn = einops.rearrange(attn, \"b h n d -> b n (h d)\")\r\n",
        "        out = self.dropout(self.fc2(attn))\r\n",
        "\r\n",
        "        return out"
      ],
      "execution_count": 5,
      "outputs": []
    },
    {
      "cell_type": "code",
      "metadata": {
        "id": "7nD7DNxhvN-E"
      },
      "source": [
        "class Transformer(nn.Module):\r\n",
        "    def __init__(self, depth, dim, hidden_dim, heads):\r\n",
        "        super().__init__()\r\n",
        "        self.layers = nn.ModuleList([])\r\n",
        "\r\n",
        "        for _ in range(depth):\r\n",
        "            self.layers.append(nn.ModuleList([Residual(LayerNormalize(dim, MultiHeadAttention(dim, heads))), \r\n",
        "                                              Residual(LayerNormalize(dim, MLP(dim, hidden_dim)))]))\r\n",
        "            \r\n",
        "    def forward(self, x):\r\n",
        "        for attention, mlp in self.layers:\r\n",
        "            x = attention(x)\r\n",
        "            x = mlp(x)\r\n",
        "\r\n",
        "        return x"
      ],
      "execution_count": 6,
      "outputs": []
    },
    {
      "cell_type": "code",
      "metadata": {
        "id": "ifpei6Fd911t"
      },
      "source": [
        "class VisionTransformer(nn.Module):\r\n",
        "    def __init__(self, in_channels, image_size, patch_size, num_classes, dim, depth, heads, hidden_dim):\r\n",
        "        super().__init__()\r\n",
        "        assert image_size % patch_size == 0, \"Image Size must be divisible by Patch Size!!\"\r\n",
        "\r\n",
        "        num_patches = (image_size // patch_size) ** 2\r\n",
        "        self.dropout = nn.Dropout(0.1)\r\n",
        "        self.identity = nn.Identity()\r\n",
        "        # self.gelu = nn.GELU()\r\n",
        "\r\n",
        "        self.patch_embedding = nn.Conv2d(in_channels, dim, patch_size, stride=patch_size)\r\n",
        "        self.cls_tokens = nn.Parameter(torch.zeros(1, 1, dim))\r\n",
        "        self.pos_embedding = nn.Parameter(torch.empty(1, (num_patches + 1), dim))\r\n",
        "        \r\n",
        "        self.transformer = Transformer(depth, dim, hidden_dim, heads)\r\n",
        "        self.fc = nn.Linear(dim, num_classes) # self.fc = nn.Linear(dim, hidden_dim) -> self.fc_out\r\n",
        "\r\n",
        "        # self.fc_out = nn.Linear(hidden_dim, num_classes) -> use only for large datasets\r\n",
        "        self.init_parameters()\r\n",
        "\r\n",
        "    def init_parameters(self):\r\n",
        "        nn.init.normal_(self.pos_embedding, std=0.02)\r\n",
        "\r\n",
        "        nn.init.xavier_uniform_(self.fc.weight)\r\n",
        "        nn.init.normal_(self.fc.bias, std=1e-6)\r\n",
        "\r\n",
        "        # nn.init.xavier_uniform_(self.fc_out.weight)\r\n",
        "        # nn.init.normal_(self.fc_out.bias)\r\n",
        "\r\n",
        "    def forward(self, x):\r\n",
        "        x = self.patch_embedding(x)\r\n",
        "        x = einops.rearrange(x, \"b c h w -> b (h w) c\")\r\n",
        "\r\n",
        "        cls_tokens = self.cls_tokens.expand(x.shape[0], -1, -1)\r\n",
        "        x = torch.cat((cls_tokens, x), dim=1)\r\n",
        "        x += self.pos_embedding\r\n",
        "        x = self.dropout(x)\r\n",
        "\r\n",
        "        x = self.transformer(x)\r\n",
        "        x = self.identity(x[:, 0])\r\n",
        "\r\n",
        "        x = self.fc(x)\r\n",
        "        # x = self.dropout(self.gelu(x))\r\n",
        "        # x = self.dropout(self.fc_out(x))\r\n",
        "\r\n",
        "        return x"
      ],
      "execution_count": 7,
      "outputs": []
    },
    {
      "cell_type": "code",
      "metadata": {
        "id": "Th1lnNe_IBeD"
      },
      "source": [
        "device = torch.device(\"cuda\" if torch.cuda.is_available() else \"cpu\")\r\n",
        "epochs = 30\r\n",
        "batch_size = 100\r\n",
        "in_channels = 3\r\n",
        "image_size = 32\r\n",
        "patch_size = 4\r\n",
        "num_classes = 10\r\n",
        "dim = 64\r\n",
        "depth = 6\r\n",
        "heads = 8\r\n",
        "hidden_dim = 128\r\n",
        "lr = 3e-3"
      ],
      "execution_count": 8,
      "outputs": []
    },
    {
      "cell_type": "code",
      "metadata": {
        "colab": {
          "base_uri": "https://localhost:8080/"
        },
        "id": "30vRHo2NIdM6",
        "outputId": "c4a86c8a-1f5b-422e-f44d-8ae7cc6f79bc"
      },
      "source": [
        "device"
      ],
      "execution_count": 9,
      "outputs": [
        {
          "output_type": "execute_result",
          "data": {
            "text/plain": [
              "device(type='cuda')"
            ]
          },
          "metadata": {
            "tags": []
          },
          "execution_count": 9
        }
      ]
    },
    {
      "cell_type": "code",
      "metadata": {
        "id": "ay-AFosLHNGI"
      },
      "source": [
        "transform = transforms.Compose([transforms.ToTensor(), \r\n",
        "                                transforms.Normalize((0.485, 0.456, 0.406), (0.229, 0.224, 0.225))])"
      ],
      "execution_count": 10,
      "outputs": []
    },
    {
      "cell_type": "code",
      "metadata": {
        "colab": {
          "base_uri": "https://localhost:8080/"
        },
        "id": "EwxpgWMfHEJq",
        "outputId": "4cdc1dfa-7434-4b4b-f7fc-3dc7e51ef522"
      },
      "source": [
        "train_data = datasets.CIFAR10(\"data/\", train=True, download=True, transform=transform)\r\n",
        "test_data = datasets.CIFAR10(\"data/\", train=False, download=True, transform=transform)"
      ],
      "execution_count": 11,
      "outputs": [
        {
          "output_type": "stream",
          "text": [
            "Files already downloaded and verified\n",
            "Files already downloaded and verified\n"
          ],
          "name": "stdout"
        }
      ]
    },
    {
      "cell_type": "code",
      "metadata": {
        "id": "qD69v0IrHEGQ"
      },
      "source": [
        "train_batches = DataLoader(train_data, batch_size=batch_size, shuffle=True)\r\n",
        "test_batches = DataLoader(test_data, batch_size=batch_size, shuffle=False)"
      ],
      "execution_count": 12,
      "outputs": []
    },
    {
      "cell_type": "code",
      "metadata": {
        "colab": {
          "base_uri": "https://localhost:8080/"
        },
        "id": "4XHgjcIRHEDg",
        "outputId": "0993acec-0298-49b8-de2a-a86ed9084b2a"
      },
      "source": [
        "len(train_batches), len(test_batches)"
      ],
      "execution_count": 13,
      "outputs": [
        {
          "output_type": "execute_result",
          "data": {
            "text/plain": [
              "(500, 100)"
            ]
          },
          "metadata": {
            "tags": []
          },
          "execution_count": 13
        }
      ]
    },
    {
      "cell_type": "code",
      "metadata": {
        "id": "_tLKob6T91yQ",
        "colab": {
          "base_uri": "https://localhost:8080/"
        },
        "outputId": "9c3d5072-6428-47d6-8ed4-ffd054d4400a"
      },
      "source": [
        "net = VisionTransformer(in_channels, image_size, patch_size, num_classes, dim, depth, heads, hidden_dim).to(device)\r\n",
        "net"
      ],
      "execution_count": 14,
      "outputs": [
        {
          "output_type": "execute_result",
          "data": {
            "text/plain": [
              "VisionTransformer(\n",
              "  (dropout): Dropout(p=0.1, inplace=False)\n",
              "  (identity): Identity()\n",
              "  (patch_embedding): Conv2d(3, 64, kernel_size=(4, 4), stride=(4, 4))\n",
              "  (transformer): Transformer(\n",
              "    (layers): ModuleList(\n",
              "      (0): ModuleList(\n",
              "        (0): Residual(\n",
              "          (fn): LayerNormalize(\n",
              "            (fn): MultiHeadAttention(\n",
              "              (dropout): Dropout(p=0.1, inplace=False)\n",
              "              (fc1): Linear(in_features=64, out_features=192, bias=True)\n",
              "              (fc2): Linear(in_features=64, out_features=64, bias=True)\n",
              "            )\n",
              "            (norm): LayerNorm((64,), eps=1e-05, elementwise_affine=True)\n",
              "          )\n",
              "        )\n",
              "        (1): Residual(\n",
              "          (fn): LayerNormalize(\n",
              "            (fn): MLP(\n",
              "              (gelu): GELU()\n",
              "              (dropout): Dropout(p=0.1, inplace=False)\n",
              "              (fc1): Linear(in_features=64, out_features=128, bias=True)\n",
              "              (fc2): Linear(in_features=128, out_features=64, bias=True)\n",
              "            )\n",
              "            (norm): LayerNorm((64,), eps=1e-05, elementwise_affine=True)\n",
              "          )\n",
              "        )\n",
              "      )\n",
              "      (1): ModuleList(\n",
              "        (0): Residual(\n",
              "          (fn): LayerNormalize(\n",
              "            (fn): MultiHeadAttention(\n",
              "              (dropout): Dropout(p=0.1, inplace=False)\n",
              "              (fc1): Linear(in_features=64, out_features=192, bias=True)\n",
              "              (fc2): Linear(in_features=64, out_features=64, bias=True)\n",
              "            )\n",
              "            (norm): LayerNorm((64,), eps=1e-05, elementwise_affine=True)\n",
              "          )\n",
              "        )\n",
              "        (1): Residual(\n",
              "          (fn): LayerNormalize(\n",
              "            (fn): MLP(\n",
              "              (gelu): GELU()\n",
              "              (dropout): Dropout(p=0.1, inplace=False)\n",
              "              (fc1): Linear(in_features=64, out_features=128, bias=True)\n",
              "              (fc2): Linear(in_features=128, out_features=64, bias=True)\n",
              "            )\n",
              "            (norm): LayerNorm((64,), eps=1e-05, elementwise_affine=True)\n",
              "          )\n",
              "        )\n",
              "      )\n",
              "      (2): ModuleList(\n",
              "        (0): Residual(\n",
              "          (fn): LayerNormalize(\n",
              "            (fn): MultiHeadAttention(\n",
              "              (dropout): Dropout(p=0.1, inplace=False)\n",
              "              (fc1): Linear(in_features=64, out_features=192, bias=True)\n",
              "              (fc2): Linear(in_features=64, out_features=64, bias=True)\n",
              "            )\n",
              "            (norm): LayerNorm((64,), eps=1e-05, elementwise_affine=True)\n",
              "          )\n",
              "        )\n",
              "        (1): Residual(\n",
              "          (fn): LayerNormalize(\n",
              "            (fn): MLP(\n",
              "              (gelu): GELU()\n",
              "              (dropout): Dropout(p=0.1, inplace=False)\n",
              "              (fc1): Linear(in_features=64, out_features=128, bias=True)\n",
              "              (fc2): Linear(in_features=128, out_features=64, bias=True)\n",
              "            )\n",
              "            (norm): LayerNorm((64,), eps=1e-05, elementwise_affine=True)\n",
              "          )\n",
              "        )\n",
              "      )\n",
              "      (3): ModuleList(\n",
              "        (0): Residual(\n",
              "          (fn): LayerNormalize(\n",
              "            (fn): MultiHeadAttention(\n",
              "              (dropout): Dropout(p=0.1, inplace=False)\n",
              "              (fc1): Linear(in_features=64, out_features=192, bias=True)\n",
              "              (fc2): Linear(in_features=64, out_features=64, bias=True)\n",
              "            )\n",
              "            (norm): LayerNorm((64,), eps=1e-05, elementwise_affine=True)\n",
              "          )\n",
              "        )\n",
              "        (1): Residual(\n",
              "          (fn): LayerNormalize(\n",
              "            (fn): MLP(\n",
              "              (gelu): GELU()\n",
              "              (dropout): Dropout(p=0.1, inplace=False)\n",
              "              (fc1): Linear(in_features=64, out_features=128, bias=True)\n",
              "              (fc2): Linear(in_features=128, out_features=64, bias=True)\n",
              "            )\n",
              "            (norm): LayerNorm((64,), eps=1e-05, elementwise_affine=True)\n",
              "          )\n",
              "        )\n",
              "      )\n",
              "      (4): ModuleList(\n",
              "        (0): Residual(\n",
              "          (fn): LayerNormalize(\n",
              "            (fn): MultiHeadAttention(\n",
              "              (dropout): Dropout(p=0.1, inplace=False)\n",
              "              (fc1): Linear(in_features=64, out_features=192, bias=True)\n",
              "              (fc2): Linear(in_features=64, out_features=64, bias=True)\n",
              "            )\n",
              "            (norm): LayerNorm((64,), eps=1e-05, elementwise_affine=True)\n",
              "          )\n",
              "        )\n",
              "        (1): Residual(\n",
              "          (fn): LayerNormalize(\n",
              "            (fn): MLP(\n",
              "              (gelu): GELU()\n",
              "              (dropout): Dropout(p=0.1, inplace=False)\n",
              "              (fc1): Linear(in_features=64, out_features=128, bias=True)\n",
              "              (fc2): Linear(in_features=128, out_features=64, bias=True)\n",
              "            )\n",
              "            (norm): LayerNorm((64,), eps=1e-05, elementwise_affine=True)\n",
              "          )\n",
              "        )\n",
              "      )\n",
              "      (5): ModuleList(\n",
              "        (0): Residual(\n",
              "          (fn): LayerNormalize(\n",
              "            (fn): MultiHeadAttention(\n",
              "              (dropout): Dropout(p=0.1, inplace=False)\n",
              "              (fc1): Linear(in_features=64, out_features=192, bias=True)\n",
              "              (fc2): Linear(in_features=64, out_features=64, bias=True)\n",
              "            )\n",
              "            (norm): LayerNorm((64,), eps=1e-05, elementwise_affine=True)\n",
              "          )\n",
              "        )\n",
              "        (1): Residual(\n",
              "          (fn): LayerNormalize(\n",
              "            (fn): MLP(\n",
              "              (gelu): GELU()\n",
              "              (dropout): Dropout(p=0.1, inplace=False)\n",
              "              (fc1): Linear(in_features=64, out_features=128, bias=True)\n",
              "              (fc2): Linear(in_features=128, out_features=64, bias=True)\n",
              "            )\n",
              "            (norm): LayerNorm((64,), eps=1e-05, elementwise_affine=True)\n",
              "          )\n",
              "        )\n",
              "      )\n",
              "    )\n",
              "  )\n",
              "  (fc): Linear(in_features=64, out_features=10, bias=True)\n",
              ")"
            ]
          },
          "metadata": {
            "tags": []
          },
          "execution_count": 14
        }
      ]
    },
    {
      "cell_type": "code",
      "metadata": {
        "id": "QxE6bC6I91v8"
      },
      "source": [
        "opt = torch.optim.Adam(net.parameters(), lr)\r\n",
        "loss_fn = nn.CrossEntropyLoss(reduction=\"sum\")"
      ],
      "execution_count": 15,
      "outputs": []
    },
    {
      "cell_type": "code",
      "metadata": {
        "id": "Iajgn5VrKc2S",
        "colab": {
          "base_uri": "https://localhost:8080/"
        },
        "outputId": "f09cce7f-71b5-4c95-895b-ea7de469defd"
      },
      "source": [
        "input = torch.randn(100, 3, 32, 32).to(device)\r\n",
        "output = net(input)\r\n",
        "output.shape"
      ],
      "execution_count": 16,
      "outputs": [
        {
          "output_type": "execute_result",
          "data": {
            "text/plain": [
              "torch.Size([100, 10])"
            ]
          },
          "metadata": {
            "tags": []
          },
          "execution_count": 16
        }
      ]
    },
    {
      "cell_type": "code",
      "metadata": {
        "id": "qIie8Y0DEU5m"
      },
      "source": [
        "def get_accuracy(preds, y):\r\n",
        "    preds = preds.argmax(dim=1, keepdim=True)\r\n",
        "    correct = preds.squeeze(1).eq(y)\r\n",
        "    acc = correct.sum() / torch.FloatTensor([y.shape[0]]).to(device)\r\n",
        "\r\n",
        "    return acc.item()"
      ],
      "execution_count": 17,
      "outputs": []
    },
    {
      "cell_type": "code",
      "metadata": {
        "id": "56Qyz5RfIvKY"
      },
      "source": [
        "def loop(net, batches, train):\r\n",
        "    batch_losses = []\r\n",
        "    batch_accs = []\r\n",
        "\r\n",
        "    if train:\r\n",
        "        print(\"Train Loop:\")\r\n",
        "        print(\"\")\r\n",
        "        net.train()\r\n",
        "\r\n",
        "        for X, y in tqdm.tqdm(batches, total=len(batches)):\r\n",
        "            X = X.to(device)\r\n",
        "            y = y.to(device)\r\n",
        "\r\n",
        "            preds = net(X)\r\n",
        "            loss = loss_fn(preds, y)\r\n",
        "            acc = get_accuracy(preds, y)\r\n",
        "\r\n",
        "            opt.zero_grad()\r\n",
        "            loss.backward()\r\n",
        "            opt.step()\r\n",
        "\r\n",
        "            batch_losses.append(loss.item())\r\n",
        "            batch_accs.append(acc)\r\n",
        "\r\n",
        "    else:\r\n",
        "        print(\"Validation Loop:\")\r\n",
        "        print(\"\")\r\n",
        "        net.eval()\r\n",
        "\r\n",
        "        with torch.no_grad():\r\n",
        "            for X, y in tqdm.tqdm(batches, total=len(batches)):\r\n",
        "                X = X.to(device)\r\n",
        "                y = y.to(device)\r\n",
        "\r\n",
        "                preds = net(X)\r\n",
        "                loss = loss_fn(preds, y)\r\n",
        "                acc = get_accuracy(preds, y)\r\n",
        "\r\n",
        "                batch_losses.append(loss.item())\r\n",
        "                batch_accs.append(acc) \r\n",
        "\r\n",
        "    print(\"\")\r\n",
        "    print(\"\")\r\n",
        "    \r\n",
        "    return sum(batch_losses) / len(batch_losses), sum(batch_accs) / len(batch_accs)"
      ],
      "execution_count": 18,
      "outputs": []
    },
    {
      "cell_type": "code",
      "metadata": {
        "colab": {
          "base_uri": "https://localhost:8080/"
        },
        "id": "_2nMP6ZMIvEj",
        "outputId": "ce2a4e87-9b30-498c-e750-541442b33c29"
      },
      "source": [
        "for epoch in range(epochs):\r\n",
        "    train_loss, train_acc = loop(net, train_batches, True)\r\n",
        "    val_loss, val_acc = loop(net, test_batches, False)\r\n",
        "    \r\n",
        "    print(f\"epoch: {epoch} | train_loss: {train_loss:.4f} | train_acc: {train_acc:.4f} | val_loss: {val_loss:.4f} | val_acc: {val_acc:.4f}\")\r\n",
        "    print(\"\")"
      ],
      "execution_count": 19,
      "outputs": [
        {
          "output_type": "stream",
          "text": [
            "  0%|          | 2/500 [00:00<00:39, 12.58it/s]"
          ],
          "name": "stderr"
        },
        {
          "output_type": "stream",
          "text": [
            "Train Loop:\n",
            "\n"
          ],
          "name": "stdout"
        },
        {
          "output_type": "stream",
          "text": [
            "100%|██████████| 500/500 [00:26<00:00, 19.14it/s]\n",
            "  4%|▍         | 4/100 [00:00<00:02, 32.70it/s]"
          ],
          "name": "stderr"
        },
        {
          "output_type": "stream",
          "text": [
            "\n",
            "\n",
            "Validation Loop:\n",
            "\n"
          ],
          "name": "stdout"
        },
        {
          "output_type": "stream",
          "text": [
            "100%|██████████| 100/100 [00:03<00:00, 31.89it/s]\n",
            "  0%|          | 2/500 [00:00<00:29, 16.67it/s]"
          ],
          "name": "stderr"
        },
        {
          "output_type": "stream",
          "text": [
            "\n",
            "\n",
            "epoch: 0 | train_loss: 189.6934 | train_acc: 0.3248 | val_loss: 147.6869 | val_acc: 0.4634\n",
            "\n",
            "Train Loop:\n",
            "\n"
          ],
          "name": "stdout"
        },
        {
          "output_type": "stream",
          "text": [
            "100%|██████████| 500/500 [00:25<00:00, 19.45it/s]\n",
            "  4%|▍         | 4/100 [00:00<00:02, 33.24it/s]"
          ],
          "name": "stderr"
        },
        {
          "output_type": "stream",
          "text": [
            "\n",
            "\n",
            "Validation Loop:\n",
            "\n"
          ],
          "name": "stdout"
        },
        {
          "output_type": "stream",
          "text": [
            "100%|██████████| 100/100 [00:03<00:00, 31.86it/s]\n",
            "  0%|          | 2/500 [00:00<00:30, 16.26it/s]"
          ],
          "name": "stderr"
        },
        {
          "output_type": "stream",
          "text": [
            "\n",
            "\n",
            "epoch: 1 | train_loss: 143.9153 | train_acc: 0.4734 | val_loss: 129.7925 | val_acc: 0.5271\n",
            "\n",
            "Train Loop:\n",
            "\n"
          ],
          "name": "stdout"
        },
        {
          "output_type": "stream",
          "text": [
            "100%|██████████| 500/500 [00:25<00:00, 19.36it/s]\n",
            "  4%|▍         | 4/100 [00:00<00:02, 33.27it/s]"
          ],
          "name": "stderr"
        },
        {
          "output_type": "stream",
          "text": [
            "\n",
            "\n",
            "Validation Loop:\n",
            "\n"
          ],
          "name": "stdout"
        },
        {
          "output_type": "stream",
          "text": [
            "100%|██████████| 100/100 [00:03<00:00, 31.81it/s]\n",
            "  0%|          | 2/500 [00:00<00:31, 15.83it/s]"
          ],
          "name": "stderr"
        },
        {
          "output_type": "stream",
          "text": [
            "\n",
            "\n",
            "epoch: 2 | train_loss: 128.6261 | train_acc: 0.5327 | val_loss: 125.6824 | val_acc: 0.5484\n",
            "\n",
            "Train Loop:\n",
            "\n"
          ],
          "name": "stdout"
        },
        {
          "output_type": "stream",
          "text": [
            "100%|██████████| 500/500 [00:25<00:00, 19.24it/s]\n",
            "  4%|▍         | 4/100 [00:00<00:02, 32.92it/s]"
          ],
          "name": "stderr"
        },
        {
          "output_type": "stream",
          "text": [
            "\n",
            "\n",
            "Validation Loop:\n",
            "\n"
          ],
          "name": "stdout"
        },
        {
          "output_type": "stream",
          "text": [
            "100%|██████████| 100/100 [00:03<00:00, 31.42it/s]\n",
            "  0%|          | 2/500 [00:00<00:30, 16.21it/s]"
          ],
          "name": "stderr"
        },
        {
          "output_type": "stream",
          "text": [
            "\n",
            "\n",
            "epoch: 3 | train_loss: 119.1738 | train_acc: 0.5688 | val_loss: 112.9703 | val_acc: 0.5911\n",
            "\n",
            "Train Loop:\n",
            "\n"
          ],
          "name": "stdout"
        },
        {
          "output_type": "stream",
          "text": [
            "100%|██████████| 500/500 [00:25<00:00, 19.27it/s]\n",
            "  3%|▎         | 3/100 [00:00<00:03, 28.42it/s]"
          ],
          "name": "stderr"
        },
        {
          "output_type": "stream",
          "text": [
            "\n",
            "\n",
            "Validation Loop:\n",
            "\n"
          ],
          "name": "stdout"
        },
        {
          "output_type": "stream",
          "text": [
            "100%|██████████| 100/100 [00:03<00:00, 31.30it/s]\n",
            "  0%|          | 2/500 [00:00<00:30, 16.22it/s]"
          ],
          "name": "stderr"
        },
        {
          "output_type": "stream",
          "text": [
            "\n",
            "\n",
            "epoch: 4 | train_loss: 112.2153 | train_acc: 0.5933 | val_loss: 111.0462 | val_acc: 0.5992\n",
            "\n",
            "Train Loop:\n",
            "\n"
          ],
          "name": "stdout"
        },
        {
          "output_type": "stream",
          "text": [
            "100%|██████████| 500/500 [00:25<00:00, 19.24it/s]\n",
            "  4%|▍         | 4/100 [00:00<00:02, 32.80it/s]"
          ],
          "name": "stderr"
        },
        {
          "output_type": "stream",
          "text": [
            "\n",
            "\n",
            "Validation Loop:\n",
            "\n"
          ],
          "name": "stdout"
        },
        {
          "output_type": "stream",
          "text": [
            "100%|██████████| 100/100 [00:03<00:00, 31.32it/s]\n",
            "  0%|          | 2/500 [00:00<00:30, 16.56it/s]"
          ],
          "name": "stderr"
        },
        {
          "output_type": "stream",
          "text": [
            "\n",
            "\n",
            "epoch: 5 | train_loss: 106.2068 | train_acc: 0.6172 | val_loss: 106.8088 | val_acc: 0.6180\n",
            "\n",
            "Train Loop:\n",
            "\n"
          ],
          "name": "stdout"
        },
        {
          "output_type": "stream",
          "text": [
            "100%|██████████| 500/500 [00:25<00:00, 19.37it/s]\n",
            "  4%|▍         | 4/100 [00:00<00:02, 33.79it/s]"
          ],
          "name": "stderr"
        },
        {
          "output_type": "stream",
          "text": [
            "\n",
            "\n",
            "Validation Loop:\n",
            "\n"
          ],
          "name": "stdout"
        },
        {
          "output_type": "stream",
          "text": [
            "100%|██████████| 100/100 [00:03<00:00, 32.45it/s]\n",
            "  0%|          | 2/500 [00:00<00:28, 17.29it/s]"
          ],
          "name": "stderr"
        },
        {
          "output_type": "stream",
          "text": [
            "\n",
            "\n",
            "epoch: 6 | train_loss: 102.1125 | train_acc: 0.6317 | val_loss: 100.4614 | val_acc: 0.6393\n",
            "\n",
            "Train Loop:\n",
            "\n"
          ],
          "name": "stdout"
        },
        {
          "output_type": "stream",
          "text": [
            "100%|██████████| 500/500 [00:25<00:00, 19.69it/s]\n",
            "  4%|▍         | 4/100 [00:00<00:02, 33.82it/s]"
          ],
          "name": "stderr"
        },
        {
          "output_type": "stream",
          "text": [
            "\n",
            "\n",
            "Validation Loop:\n",
            "\n"
          ],
          "name": "stdout"
        },
        {
          "output_type": "stream",
          "text": [
            "100%|██████████| 100/100 [00:03<00:00, 32.30it/s]\n",
            "  0%|          | 2/500 [00:00<00:28, 17.25it/s]"
          ],
          "name": "stderr"
        },
        {
          "output_type": "stream",
          "text": [
            "\n",
            "\n",
            "epoch: 7 | train_loss: 97.1243 | train_acc: 0.6504 | val_loss: 100.3125 | val_acc: 0.6465\n",
            "\n",
            "Train Loop:\n",
            "\n"
          ],
          "name": "stdout"
        },
        {
          "output_type": "stream",
          "text": [
            "100%|██████████| 500/500 [00:25<00:00, 19.64it/s]\n",
            "  4%|▍         | 4/100 [00:00<00:02, 33.07it/s]"
          ],
          "name": "stderr"
        },
        {
          "output_type": "stream",
          "text": [
            "\n",
            "\n",
            "Validation Loop:\n",
            "\n"
          ],
          "name": "stdout"
        },
        {
          "output_type": "stream",
          "text": [
            "100%|██████████| 100/100 [00:03<00:00, 32.81it/s]\n",
            "  0%|          | 2/500 [00:00<00:28, 17.37it/s]"
          ],
          "name": "stderr"
        },
        {
          "output_type": "stream",
          "text": [
            "\n",
            "\n",
            "epoch: 8 | train_loss: 93.9959 | train_acc: 0.6622 | val_loss: 95.3670 | val_acc: 0.6674\n",
            "\n",
            "Train Loop:\n",
            "\n"
          ],
          "name": "stdout"
        },
        {
          "output_type": "stream",
          "text": [
            "100%|██████████| 500/500 [00:25<00:00, 19.70it/s]\n",
            "  4%|▍         | 4/100 [00:00<00:02, 33.97it/s]"
          ],
          "name": "stderr"
        },
        {
          "output_type": "stream",
          "text": [
            "\n",
            "\n",
            "Validation Loop:\n",
            "\n"
          ],
          "name": "stdout"
        },
        {
          "output_type": "stream",
          "text": [
            "100%|██████████| 100/100 [00:03<00:00, 32.56it/s]\n",
            "  0%|          | 2/500 [00:00<00:29, 16.92it/s]"
          ],
          "name": "stderr"
        },
        {
          "output_type": "stream",
          "text": [
            "\n",
            "\n",
            "epoch: 9 | train_loss: 90.4290 | train_acc: 0.6746 | val_loss: 96.2096 | val_acc: 0.6610\n",
            "\n",
            "Train Loop:\n",
            "\n"
          ],
          "name": "stdout"
        },
        {
          "output_type": "stream",
          "text": [
            "100%|██████████| 500/500 [00:25<00:00, 19.84it/s]\n",
            "  4%|▍         | 4/100 [00:00<00:02, 33.33it/s]"
          ],
          "name": "stderr"
        },
        {
          "output_type": "stream",
          "text": [
            "\n",
            "\n",
            "Validation Loop:\n",
            "\n"
          ],
          "name": "stdout"
        },
        {
          "output_type": "stream",
          "text": [
            "100%|██████████| 100/100 [00:03<00:00, 32.50it/s]\n",
            "  0%|          | 2/500 [00:00<00:28, 17.68it/s]"
          ],
          "name": "stderr"
        },
        {
          "output_type": "stream",
          "text": [
            "\n",
            "\n",
            "epoch: 10 | train_loss: 87.6519 | train_acc: 0.6888 | val_loss: 90.0948 | val_acc: 0.6820\n",
            "\n",
            "Train Loop:\n",
            "\n"
          ],
          "name": "stdout"
        },
        {
          "output_type": "stream",
          "text": [
            "100%|██████████| 500/500 [00:25<00:00, 19.46it/s]\n",
            "  4%|▍         | 4/100 [00:00<00:02, 33.59it/s]"
          ],
          "name": "stderr"
        },
        {
          "output_type": "stream",
          "text": [
            "\n",
            "\n",
            "Validation Loop:\n",
            "\n"
          ],
          "name": "stdout"
        },
        {
          "output_type": "stream",
          "text": [
            "100%|██████████| 100/100 [00:03<00:00, 32.43it/s]\n",
            "  0%|          | 2/500 [00:00<00:28, 17.27it/s]"
          ],
          "name": "stderr"
        },
        {
          "output_type": "stream",
          "text": [
            "\n",
            "\n",
            "epoch: 11 | train_loss: 85.0043 | train_acc: 0.6953 | val_loss: 90.9816 | val_acc: 0.6842\n",
            "\n",
            "Train Loop:\n",
            "\n"
          ],
          "name": "stdout"
        },
        {
          "output_type": "stream",
          "text": [
            "100%|██████████| 500/500 [00:26<00:00, 18.88it/s]\n",
            "  4%|▍         | 4/100 [00:00<00:03, 31.44it/s]"
          ],
          "name": "stderr"
        },
        {
          "output_type": "stream",
          "text": [
            "\n",
            "\n",
            "Validation Loop:\n",
            "\n"
          ],
          "name": "stdout"
        },
        {
          "output_type": "stream",
          "text": [
            "100%|██████████| 100/100 [00:03<00:00, 30.62it/s]\n",
            "  0%|          | 2/500 [00:00<00:30, 16.36it/s]"
          ],
          "name": "stderr"
        },
        {
          "output_type": "stream",
          "text": [
            "\n",
            "\n",
            "epoch: 12 | train_loss: 82.1688 | train_acc: 0.7055 | val_loss: 88.2300 | val_acc: 0.6946\n",
            "\n",
            "Train Loop:\n",
            "\n"
          ],
          "name": "stdout"
        },
        {
          "output_type": "stream",
          "text": [
            "100%|██████████| 500/500 [00:26<00:00, 18.98it/s]\n",
            "  4%|▍         | 4/100 [00:00<00:02, 33.66it/s]"
          ],
          "name": "stderr"
        },
        {
          "output_type": "stream",
          "text": [
            "\n",
            "\n",
            "Validation Loop:\n",
            "\n"
          ],
          "name": "stdout"
        },
        {
          "output_type": "stream",
          "text": [
            "100%|██████████| 100/100 [00:03<00:00, 31.71it/s]\n",
            "  0%|          | 2/500 [00:00<00:29, 17.12it/s]"
          ],
          "name": "stderr"
        },
        {
          "output_type": "stream",
          "text": [
            "\n",
            "\n",
            "epoch: 13 | train_loss: 79.6158 | train_acc: 0.7146 | val_loss: 87.0094 | val_acc: 0.6885\n",
            "\n",
            "Train Loop:\n",
            "\n"
          ],
          "name": "stdout"
        },
        {
          "output_type": "stream",
          "text": [
            "100%|██████████| 500/500 [00:25<00:00, 19.26it/s]\n",
            "  4%|▍         | 4/100 [00:00<00:02, 33.10it/s]"
          ],
          "name": "stderr"
        },
        {
          "output_type": "stream",
          "text": [
            "\n",
            "\n",
            "Validation Loop:\n",
            "\n"
          ],
          "name": "stdout"
        },
        {
          "output_type": "stream",
          "text": [
            "100%|██████████| 100/100 [00:03<00:00, 31.71it/s]\n",
            "  0%|          | 2/500 [00:00<00:29, 17.06it/s]"
          ],
          "name": "stderr"
        },
        {
          "output_type": "stream",
          "text": [
            "\n",
            "\n",
            "epoch: 14 | train_loss: 77.6083 | train_acc: 0.7206 | val_loss: 84.0653 | val_acc: 0.7055\n",
            "\n",
            "Train Loop:\n",
            "\n"
          ],
          "name": "stdout"
        },
        {
          "output_type": "stream",
          "text": [
            "100%|██████████| 500/500 [00:25<00:00, 19.34it/s]\n",
            "  4%|▍         | 4/100 [00:00<00:02, 32.45it/s]"
          ],
          "name": "stderr"
        },
        {
          "output_type": "stream",
          "text": [
            "\n",
            "\n",
            "Validation Loop:\n",
            "\n"
          ],
          "name": "stdout"
        },
        {
          "output_type": "stream",
          "text": [
            "100%|██████████| 100/100 [00:03<00:00, 31.86it/s]\n",
            "  0%|          | 2/500 [00:00<00:30, 16.12it/s]"
          ],
          "name": "stderr"
        },
        {
          "output_type": "stream",
          "text": [
            "\n",
            "\n",
            "epoch: 15 | train_loss: 75.4540 | train_acc: 0.7297 | val_loss: 87.3324 | val_acc: 0.6992\n",
            "\n",
            "Train Loop:\n",
            "\n"
          ],
          "name": "stdout"
        },
        {
          "output_type": "stream",
          "text": [
            "100%|██████████| 500/500 [00:26<00:00, 19.20it/s]\n",
            "  4%|▍         | 4/100 [00:00<00:03, 31.52it/s]"
          ],
          "name": "stderr"
        },
        {
          "output_type": "stream",
          "text": [
            "\n",
            "\n",
            "Validation Loop:\n",
            "\n"
          ],
          "name": "stdout"
        },
        {
          "output_type": "stream",
          "text": [
            "100%|██████████| 100/100 [00:03<00:00, 31.42it/s]\n",
            "  0%|          | 2/500 [00:00<00:30, 16.41it/s]"
          ],
          "name": "stderr"
        },
        {
          "output_type": "stream",
          "text": [
            "\n",
            "\n",
            "epoch: 16 | train_loss: 73.0346 | train_acc: 0.7382 | val_loss: 90.8878 | val_acc: 0.6911\n",
            "\n",
            "Train Loop:\n",
            "\n"
          ],
          "name": "stdout"
        },
        {
          "output_type": "stream",
          "text": [
            "100%|██████████| 500/500 [00:25<00:00, 19.33it/s]\n",
            "  4%|▍         | 4/100 [00:00<00:03, 30.48it/s]"
          ],
          "name": "stderr"
        },
        {
          "output_type": "stream",
          "text": [
            "\n",
            "\n",
            "Validation Loop:\n",
            "\n"
          ],
          "name": "stdout"
        },
        {
          "output_type": "stream",
          "text": [
            "100%|██████████| 100/100 [00:03<00:00, 31.62it/s]\n",
            "  0%|          | 2/500 [00:00<00:29, 16.75it/s]"
          ],
          "name": "stderr"
        },
        {
          "output_type": "stream",
          "text": [
            "\n",
            "\n",
            "epoch: 17 | train_loss: 70.9748 | train_acc: 0.7445 | val_loss: 87.3515 | val_acc: 0.7103\n",
            "\n",
            "Train Loop:\n",
            "\n"
          ],
          "name": "stdout"
        },
        {
          "output_type": "stream",
          "text": [
            "100%|██████████| 500/500 [00:25<00:00, 19.23it/s]\n",
            "  4%|▍         | 4/100 [00:00<00:03, 31.79it/s]"
          ],
          "name": "stderr"
        },
        {
          "output_type": "stream",
          "text": [
            "\n",
            "\n",
            "Validation Loop:\n",
            "\n"
          ],
          "name": "stdout"
        },
        {
          "output_type": "stream",
          "text": [
            "100%|██████████| 100/100 [00:03<00:00, 31.64it/s]\n",
            "  0%|          | 2/500 [00:00<00:29, 16.73it/s]"
          ],
          "name": "stderr"
        },
        {
          "output_type": "stream",
          "text": [
            "\n",
            "\n",
            "epoch: 18 | train_loss: 70.2105 | train_acc: 0.7487 | val_loss: 86.3680 | val_acc: 0.7074\n",
            "\n",
            "Train Loop:\n",
            "\n"
          ],
          "name": "stdout"
        },
        {
          "output_type": "stream",
          "text": [
            "100%|██████████| 500/500 [00:25<00:00, 19.31it/s]\n",
            "  4%|▍         | 4/100 [00:00<00:03, 30.25it/s]"
          ],
          "name": "stderr"
        },
        {
          "output_type": "stream",
          "text": [
            "\n",
            "\n",
            "Validation Loop:\n",
            "\n"
          ],
          "name": "stdout"
        },
        {
          "output_type": "stream",
          "text": [
            "100%|██████████| 100/100 [00:03<00:00, 31.36it/s]\n",
            "  0%|          | 2/500 [00:00<00:31, 15.59it/s]"
          ],
          "name": "stderr"
        },
        {
          "output_type": "stream",
          "text": [
            "\n",
            "\n",
            "epoch: 19 | train_loss: 67.9407 | train_acc: 0.7567 | val_loss: 85.3552 | val_acc: 0.7142\n",
            "\n",
            "Train Loop:\n",
            "\n"
          ],
          "name": "stdout"
        },
        {
          "output_type": "stream",
          "text": [
            "100%|██████████| 500/500 [00:25<00:00, 19.28it/s]\n",
            "  4%|▍         | 4/100 [00:00<00:02, 33.33it/s]"
          ],
          "name": "stderr"
        },
        {
          "output_type": "stream",
          "text": [
            "\n",
            "\n",
            "Validation Loop:\n",
            "\n"
          ],
          "name": "stdout"
        },
        {
          "output_type": "stream",
          "text": [
            "100%|██████████| 100/100 [00:03<00:00, 31.90it/s]\n",
            "  0%|          | 2/500 [00:00<00:32, 15.47it/s]"
          ],
          "name": "stderr"
        },
        {
          "output_type": "stream",
          "text": [
            "\n",
            "\n",
            "epoch: 20 | train_loss: 65.9545 | train_acc: 0.7638 | val_loss: 85.4868 | val_acc: 0.7175\n",
            "\n",
            "Train Loop:\n",
            "\n"
          ],
          "name": "stdout"
        },
        {
          "output_type": "stream",
          "text": [
            "100%|██████████| 500/500 [00:25<00:00, 19.25it/s]\n",
            "  4%|▍         | 4/100 [00:00<00:02, 33.58it/s]"
          ],
          "name": "stderr"
        },
        {
          "output_type": "stream",
          "text": [
            "\n",
            "\n",
            "Validation Loop:\n",
            "\n"
          ],
          "name": "stdout"
        },
        {
          "output_type": "stream",
          "text": [
            "100%|██████████| 100/100 [00:03<00:00, 31.91it/s]\n",
            "  0%|          | 2/500 [00:00<00:30, 16.50it/s]"
          ],
          "name": "stderr"
        },
        {
          "output_type": "stream",
          "text": [
            "\n",
            "\n",
            "epoch: 21 | train_loss: 65.0255 | train_acc: 0.7668 | val_loss: 87.2401 | val_acc: 0.7147\n",
            "\n",
            "Train Loop:\n",
            "\n"
          ],
          "name": "stdout"
        },
        {
          "output_type": "stream",
          "text": [
            "100%|██████████| 500/500 [00:25<00:00, 19.31it/s]\n",
            "  4%|▍         | 4/100 [00:00<00:03, 31.87it/s]"
          ],
          "name": "stderr"
        },
        {
          "output_type": "stream",
          "text": [
            "\n",
            "\n",
            "Validation Loop:\n",
            "\n"
          ],
          "name": "stdout"
        },
        {
          "output_type": "stream",
          "text": [
            "100%|██████████| 100/100 [00:03<00:00, 32.32it/s]\n",
            "  0%|          | 2/500 [00:00<00:29, 16.80it/s]"
          ],
          "name": "stderr"
        },
        {
          "output_type": "stream",
          "text": [
            "\n",
            "\n",
            "epoch: 22 | train_loss: 63.5421 | train_acc: 0.7738 | val_loss: 84.9009 | val_acc: 0.7204\n",
            "\n",
            "Train Loop:\n",
            "\n"
          ],
          "name": "stdout"
        },
        {
          "output_type": "stream",
          "text": [
            "100%|██████████| 500/500 [00:25<00:00, 19.39it/s]\n",
            "  4%|▍         | 4/100 [00:00<00:02, 32.71it/s]"
          ],
          "name": "stderr"
        },
        {
          "output_type": "stream",
          "text": [
            "\n",
            "\n",
            "Validation Loop:\n",
            "\n"
          ],
          "name": "stdout"
        },
        {
          "output_type": "stream",
          "text": [
            "100%|██████████| 100/100 [00:03<00:00, 31.89it/s]\n",
            "  0%|          | 2/500 [00:00<00:29, 16.64it/s]"
          ],
          "name": "stderr"
        },
        {
          "output_type": "stream",
          "text": [
            "\n",
            "\n",
            "epoch: 23 | train_loss: 62.1987 | train_acc: 0.7780 | val_loss: 84.1880 | val_acc: 0.7245\n",
            "\n",
            "Train Loop:\n",
            "\n"
          ],
          "name": "stdout"
        },
        {
          "output_type": "stream",
          "text": [
            "100%|██████████| 500/500 [00:25<00:00, 19.35it/s]\n",
            "  4%|▍         | 4/100 [00:00<00:03, 31.13it/s]"
          ],
          "name": "stderr"
        },
        {
          "output_type": "stream",
          "text": [
            "\n",
            "\n",
            "Validation Loop:\n",
            "\n"
          ],
          "name": "stdout"
        },
        {
          "output_type": "stream",
          "text": [
            "100%|██████████| 100/100 [00:03<00:00, 32.16it/s]\n",
            "  0%|          | 2/500 [00:00<00:30, 16.57it/s]"
          ],
          "name": "stderr"
        },
        {
          "output_type": "stream",
          "text": [
            "\n",
            "\n",
            "epoch: 24 | train_loss: 61.2156 | train_acc: 0.7792 | val_loss: 81.7569 | val_acc: 0.7266\n",
            "\n",
            "Train Loop:\n",
            "\n"
          ],
          "name": "stdout"
        },
        {
          "output_type": "stream",
          "text": [
            "100%|██████████| 500/500 [00:25<00:00, 19.41it/s]\n",
            "  4%|▍         | 4/100 [00:00<00:03, 29.81it/s]"
          ],
          "name": "stderr"
        },
        {
          "output_type": "stream",
          "text": [
            "\n",
            "\n",
            "Validation Loop:\n",
            "\n"
          ],
          "name": "stdout"
        },
        {
          "output_type": "stream",
          "text": [
            "100%|██████████| 100/100 [00:03<00:00, 31.38it/s]\n",
            "  0%|          | 2/500 [00:00<00:29, 17.10it/s]"
          ],
          "name": "stderr"
        },
        {
          "output_type": "stream",
          "text": [
            "\n",
            "\n",
            "epoch: 25 | train_loss: 59.7910 | train_acc: 0.7862 | val_loss: 87.5563 | val_acc: 0.7151\n",
            "\n",
            "Train Loop:\n",
            "\n"
          ],
          "name": "stdout"
        },
        {
          "output_type": "stream",
          "text": [
            "100%|██████████| 500/500 [00:25<00:00, 19.38it/s]\n",
            "  4%|▍         | 4/100 [00:00<00:02, 32.74it/s]"
          ],
          "name": "stderr"
        },
        {
          "output_type": "stream",
          "text": [
            "\n",
            "\n",
            "Validation Loop:\n",
            "\n"
          ],
          "name": "stdout"
        },
        {
          "output_type": "stream",
          "text": [
            "100%|██████████| 100/100 [00:03<00:00, 32.26it/s]\n",
            "  0%|          | 2/500 [00:00<00:29, 17.16it/s]"
          ],
          "name": "stderr"
        },
        {
          "output_type": "stream",
          "text": [
            "\n",
            "\n",
            "epoch: 26 | train_loss: 58.4900 | train_acc: 0.7905 | val_loss: 85.4096 | val_acc: 0.7299\n",
            "\n",
            "Train Loop:\n",
            "\n"
          ],
          "name": "stdout"
        },
        {
          "output_type": "stream",
          "text": [
            "100%|██████████| 500/500 [00:25<00:00, 19.36it/s]\n",
            "  4%|▍         | 4/100 [00:00<00:02, 32.73it/s]"
          ],
          "name": "stderr"
        },
        {
          "output_type": "stream",
          "text": [
            "\n",
            "\n",
            "Validation Loop:\n",
            "\n"
          ],
          "name": "stdout"
        },
        {
          "output_type": "stream",
          "text": [
            "100%|██████████| 100/100 [00:03<00:00, 32.06it/s]\n",
            "  0%|          | 2/500 [00:00<00:30, 16.56it/s]"
          ],
          "name": "stderr"
        },
        {
          "output_type": "stream",
          "text": [
            "\n",
            "\n",
            "epoch: 27 | train_loss: 58.0180 | train_acc: 0.7919 | val_loss: 95.1431 | val_acc: 0.7009\n",
            "\n",
            "Train Loop:\n",
            "\n"
          ],
          "name": "stdout"
        },
        {
          "output_type": "stream",
          "text": [
            "100%|██████████| 500/500 [00:25<00:00, 19.54it/s]\n",
            "  4%|▍         | 4/100 [00:00<00:02, 32.71it/s]"
          ],
          "name": "stderr"
        },
        {
          "output_type": "stream",
          "text": [
            "\n",
            "\n",
            "Validation Loop:\n",
            "\n"
          ],
          "name": "stdout"
        },
        {
          "output_type": "stream",
          "text": [
            "100%|██████████| 100/100 [00:03<00:00, 32.27it/s]\n",
            "  0%|          | 2/500 [00:00<00:29, 17.08it/s]"
          ],
          "name": "stderr"
        },
        {
          "output_type": "stream",
          "text": [
            "\n",
            "\n",
            "epoch: 28 | train_loss: 56.6283 | train_acc: 0.7977 | val_loss: 89.6068 | val_acc: 0.7222\n",
            "\n",
            "Train Loop:\n",
            "\n"
          ],
          "name": "stdout"
        },
        {
          "output_type": "stream",
          "text": [
            "100%|██████████| 500/500 [00:25<00:00, 19.66it/s]\n",
            "  4%|▍         | 4/100 [00:00<00:02, 34.42it/s]"
          ],
          "name": "stderr"
        },
        {
          "output_type": "stream",
          "text": [
            "\n",
            "\n",
            "Validation Loop:\n",
            "\n"
          ],
          "name": "stdout"
        },
        {
          "output_type": "stream",
          "text": [
            "100%|██████████| 100/100 [00:03<00:00, 32.18it/s]"
          ],
          "name": "stderr"
        },
        {
          "output_type": "stream",
          "text": [
            "\n",
            "\n",
            "epoch: 29 | train_loss: 55.4899 | train_acc: 0.7998 | val_loss: 89.6653 | val_acc: 0.7192\n",
            "\n"
          ],
          "name": "stdout"
        },
        {
          "output_type": "stream",
          "text": [
            "\n"
          ],
          "name": "stderr"
        }
      ]
    },
    {
      "cell_type": "code",
      "metadata": {
        "id": "2-nr-Wp8P4dR"
      },
      "source": [],
      "execution_count": null,
      "outputs": []
    },
    {
      "cell_type": "code",
      "metadata": {
        "id": "Y480JCkCWWqn"
      },
      "source": [],
      "execution_count": null,
      "outputs": []
    }
  ]
}